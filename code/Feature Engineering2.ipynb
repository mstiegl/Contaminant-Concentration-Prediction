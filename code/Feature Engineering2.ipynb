{
 "cells": [
  {
   "cell_type": "code",
   "execution_count": 2,
   "metadata": {},
   "outputs": [],
   "source": [
    "import pandas as pd\n",
    "import numpy as np\n",
    "from tqdm import tqdm\n",
    "import statistics\n",
    "from scipy import stats "
   ]
  },
  {
   "cell_type": "code",
   "execution_count": 3,
   "metadata": {},
   "outputs": [
    {
     "name": "stdout",
     "output_type": "stream",
     "text": [
      "D:\\HKUST\\data mining and knowledge discovery\\Project\\work2\\feature data\n"
     ]
    }
   ],
   "source": [
    "cd D:\\HKUST\\data mining and knowledge discovery\\Project\\work2\\feature data"
   ]
  },
  {
   "cell_type": "code",
   "execution_count": 4,
   "metadata": {},
   "outputs": [],
   "source": [
    "# wind_direction = list(dongsi['wind_direction'])\n",
    "# PM25 = list(dongsi['PM2.5']) \n",
    "# PM10 = list(dongsi['PM10'])\n",
    "# O3 = list(dongsi['O3'])\n",
    "# temperature = list(dongsi['temperature'])\n",
    "# pressure = list(dongsi['pressure'])\n",
    "# humidity = list(dongsi['humidity'])\n",
    "# wind_speed = list(dongsi['wind_speed/kph'])"
   ]
  },
  {
   "cell_type": "code",
   "execution_count": 5,
   "metadata": {},
   "outputs": [],
   "source": [
    "def get_wind_direction(file):\n",
    "    wind_direction = list(file['wind_direction'])\n",
    "    for i in range(len(wind_direction)):\n",
    "        if (wind_direction[i]>=337.5 and wind_direction[i]<=360) or (wind_direction[i]<22.5):\n",
    "            wind_direction[i]=1\n",
    "        elif wind_direction[i]>=22.5 and wind_direction[i]< 67.5:\n",
    "            wind_direction[i]=2\n",
    "        elif wind_direction[i]>=67.5 and wind_direction[i]< 112.5:\n",
    "            wind_direction[i]=3\n",
    "        elif wind_direction[i]>=112.5 and wind_direction[i]< 157.5:\n",
    "            wind_direction[i]=4\n",
    "        elif wind_direction[i]>=157.5 and wind_direction[i]< 202.5:\n",
    "            wind_direction[i]=5\n",
    "        elif wind_direction[i]>=202.5 and wind_direction[i]< 247.5:\n",
    "            wind_direction[i]=6\n",
    "        elif wind_direction[i]>=247.5 and wind_direction[i]< 292.5:\n",
    "            wind_direction[i]=7\n",
    "        elif wind_direction[i]>=292.5 and wind_direction[i]< 337.5:\n",
    "            wind_direction[i]=8\n",
    "        else:\n",
    "            wind_direction[i]=0\n",
    "    wind_direction = list(file['wind_direction'])\n",
    "    for i in range(7,len(wind_direction)):\n",
    "        temp_list = []\n",
    "        for j in range(8):\n",
    "            temp_list.append(wind_direction[i-7+j])\n",
    "        wind_direction[i] = stats.mode(temp_list)[0][0]\n",
    "    file['wind_direction'] = wind_direction\n",
    "    return"
   ]
  },
  {
   "cell_type": "code",
   "execution_count": 6,
   "metadata": {},
   "outputs": [],
   "source": [
    "# dongsi['wind_direction'] = wind_direction"
   ]
  },
  {
   "cell_type": "code",
   "execution_count": 7,
   "metadata": {},
   "outputs": [],
   "source": [
    "def get_temperature(file):\n",
    "    temperature = list(file['temperature'])\n",
    "    for i in range(7,len(temperature)):\n",
    "        temp_list = []\n",
    "        for j in range(8):\n",
    "            temp_list.append(temperature[i-7+j])\n",
    "        temperature[i] = statistics.mean(temp_list)\n",
    "    file['temperature'] = temperature\n",
    "    return\n",
    "    \n",
    "def get_pressure(file):\n",
    "    pressure = list(file['pressure'])\n",
    "    for i in range(7,len(pressure)):\n",
    "        temp_list = []\n",
    "        for j in range(8):\n",
    "            temp_list.append(pressure[i-7+j])\n",
    "        pressure[i] = statistics.mean(temp_list)\n",
    "    file['pressure'] = pressure\n",
    "    return\n",
    "\n",
    "def get_humidity(file):\n",
    "    humidity = list(file['humidity'])\n",
    "    for i in range(7,len(humidity)):\n",
    "        temp_list = []\n",
    "        for j in range(8):\n",
    "            temp_list.append(humidity[i-7+j])\n",
    "        humidity[i] = statistics.mean(temp_list)\n",
    "    file['humidity'] = humidity\n",
    "    return\n",
    "    \n",
    "def get_wind_speed(file):\n",
    "    wind_speed = list(file['wind_speed/kph'])\n",
    "    for i in range(7,len(wind_speed)):\n",
    "        temp_list = []\n",
    "        for j in range(8):\n",
    "            temp_list.append(wind_speed[i-7+j])\n",
    "        wind_speed[i] = statistics.mean(temp_list)\n",
    "    file['wind_speed'] = wind_speed\n",
    "    return\n",
    "\n",
    "def wind_direction(file):\n",
    "    wind_direction = list(file['wind_direction'])\n",
    "    for i in range(7,len(wind_direction)):\n",
    "        temp_list = []\n",
    "        for j in range(8):\n",
    "            temp_list.append(wind_direction[i-7+j])\n",
    "        wind_direction[i] = stats.mode(temp_list)\n",
    "    file['wind_direction'] = wind_direction\n",
    "    return"
   ]
  },
  {
   "cell_type": "code",
   "execution_count": 8,
   "metadata": {},
   "outputs": [
    {
     "name": "stdout",
     "output_type": "stream",
     "text": [
      "D:\\HKUST\\data mining and knowledge discovery\\Project\\work2\n"
     ]
    }
   ],
   "source": [
    "cd D:\\HKUST\\data mining and knowledge discovery\\Project\\work2"
   ]
  },
  {
   "cell_type": "code",
   "execution_count": 9,
   "metadata": {},
   "outputs": [],
   "source": [
    "air_station_position = pd.read_csv('air_station_position.csv')\n",
    "aq_index = list(air_station_position['stationId'])"
   ]
  },
  {
   "cell_type": "code",
   "execution_count": 10,
   "metadata": {},
   "outputs": [],
   "source": [
    "for i in range(len(aq_index)):\n",
    "    aq_index[i] = aq_index[i].split('_')[0]"
   ]
  },
  {
   "cell_type": "code",
   "execution_count": 11,
   "metadata": {},
   "outputs": [
    {
     "name": "stdout",
     "output_type": "stream",
     "text": [
      "D:\\HKUST\\data mining and knowledge discovery\\Project\\work2\\feature data\n"
     ]
    }
   ],
   "source": [
    "cd D:\\HKUST\\data mining and knowledge discovery\\Project\\work2\\feature data"
   ]
  },
  {
   "cell_type": "code",
   "execution_count": 12,
   "metadata": {},
   "outputs": [],
   "source": [
    "def get_weather_feature():\n",
    "    for aq in tqdm(aq_index):\n",
    "        file = pd.read_csv('feature_' + aq + '.csv')\n",
    "        wind_direction = list(file['wind_direction'])\n",
    "#         PM25 = list(dongsi['PM2.5']) \n",
    "#         PM10 = list(dongsi['PM10'])\n",
    "#         O3 = list(dongsi['O3'])\n",
    "        temperature = list(file['temperature'])\n",
    "        pressure = list(file['pressure'])\n",
    "        humidity = list(file['humidity'])\n",
    "        wind_speed = list(file['wind_speed/kph'])\n",
    "        wind_direction = list(file['wind_direction'])\n",
    "        get_temperature(file)\n",
    "        get_pressure(file)\n",
    "        get_humidity(file)\n",
    "        get_wind_speed(file)\n",
    "        get_wind_direction(file)\n",
    "        file.to_csv('D:/HKUST/data mining and knowledge discovery/Project/work2/feature data2/' + 'feature_' + aq +'.csv')"
   ]
  },
  {
   "cell_type": "code",
   "execution_count": 14,
   "metadata": {},
   "outputs": [
    {
     "name": "stderr",
     "output_type": "stream",
     "text": [
      "100%|██████████████████████████████████████████████████████████████████████████████████| 35/35 [01:12<00:00,  2.28s/it]\n"
     ]
    }
   ],
   "source": [
    "get_weather_feature()"
   ]
  },
  {
   "cell_type": "code",
   "execution_count": 13,
   "metadata": {},
   "outputs": [],
   "source": [
    "def get_PM25(file):\n",
    "    PM25lasthour = list(file['PM25lasthour'])\n",
    "    PM25 = list(file['PM25'])\n",
    "    for i in range(1,len(file['PM2.5'])):\n",
    "        PM25lasthour[i] = PM25[i-1]\n",
    "    file['PM25lasthour'] = PMlasthour\n",
    "    return"
   ]
  },
  {
   "cell_type": "code",
   "execution_count": 14,
   "metadata": {},
   "outputs": [],
   "source": [
    "def get_PM10(file):\n",
    "    PM10lasthour = list(file['PM10lasthour'])\n",
    "    PM10 = list(file['PM10'])\n",
    "    for i in range(1,len(file['PM10'])):\n",
    "        PM10lasthour[i] = PM10[i-1]\n",
    "    file['PM10lasthour'] = PM10lasthour\n",
    "    return"
   ]
  },
  {
   "cell_type": "code",
   "execution_count": 15,
   "metadata": {},
   "outputs": [],
   "source": [
    "def get_O3(file):\n",
    "    O3lasthour = list(file['O3'])\n",
    "    O3 = list(file['O3'])\n",
    "    for i in range(1,len(file['O3'])):\n",
    "        O3lasthour[i] = O3[i-1]\n",
    "    file['O3'] = O3lasthour\n",
    "    return"
   ]
  },
  {
   "cell_type": "code",
   "execution_count": 16,
   "metadata": {},
   "outputs": [],
   "source": [
    "def get_PM25_stats(file):\n",
    "    PM25_temp = []\n",
    "    PM25_min = list(file['PM25_min'])\n",
    "    PM25_max = list(file['PM25_max'])\n",
    "    PM25_max_min = list(file['PM25_max_min'])\n",
    "    PM25_mean = list(file['PM25_mean'])\n",
    "    PM25_median = list(file['PM25_median'])\n",
    "    PM25_std = list(file['PM25_std'])\n",
    "    for i in range(48,len(PM25_min)):\n",
    "        for j in range(48):\n",
    "            PM25_temp.append(file['PM2.5'][i-48+j])\n",
    "        PM25_min[i] = min(PM25_temp)\n",
    "        PM25_max[i] = max(PM25_temp)\n",
    "        PM25_max_min[i] = max(PM25_temp) - min(PM25_temp)\n",
    "        PM25_mean[i] = statistics.mean(PM25_temp)\n",
    "        PM25_median[i] = statistics.median(PM25_temp)\n",
    "        PM25_std[i] = statistics.stdev(PM25_temp)\n",
    "    file['PM25_min'] = PM25_min\n",
    "    file['PM25_max'] = PM25_max\n",
    "    file['PM25_max_min'] = PM25_max_min\n",
    "    file['PM25_mean'] = PM25_mean\n",
    "    file['PM25_median'] = PM25_median\n",
    "    file['PM25_std'] = PM25_std\n",
    "    return"
   ]
  },
  {
   "cell_type": "code",
   "execution_count": 17,
   "metadata": {},
   "outputs": [],
   "source": [
    "def get_PM10_stats(file):\n",
    "    PM10_temp = []\n",
    "    PM10_min = list(file['PM10_min'])\n",
    "    PM10_max = list(file['PM10_max'])\n",
    "    PM10_max_min = list(file['PM10_max_min'])\n",
    "    PM10_mean = list(file['PM10_mean'])\n",
    "    PM10_median = list(file['PM10_median'])\n",
    "    PM10_std = list(file['PM10_std'])\n",
    "    for i in range(48,len(PM10_min)):\n",
    "        for j in range(48):\n",
    "            PM10_temp.append(file['PM10'][i-48+j])\n",
    "        PM10_min[i] = min(PM10_temp)\n",
    "        PM10_max[i] = max(PM10_temp)\n",
    "        PM10_max_min[i] = max(PM10_temp) - min(PM10_temp)\n",
    "        PM10_mean[i] = statistics.mean(PM10_temp)\n",
    "        PM10_median[i] = statistics.median(PM10_temp)\n",
    "        PM10_std[i] = statistics.stdev(PM10_temp)\n",
    "    file['PM10_min'] = PM10_min\n",
    "    file['PM10_max'] = PM10_max\n",
    "    file['PM10_max_min'] = PM10_max_min\n",
    "    file['PM10_mean'] = PM10_mean\n",
    "    file['PM10_median'] = PM10_median\n",
    "    file['PM10_std'] = PM10_std\n",
    "    return"
   ]
  },
  {
   "cell_type": "code",
   "execution_count": 18,
   "metadata": {},
   "outputs": [],
   "source": [
    "def get_O3_stats(file):\n",
    "    O3_temp = []\n",
    "    O3_min = list(file['O3_min'])\n",
    "    O3_max = list(file['O3_max'])\n",
    "    O3_max_min = list(file['O3_max_min'])\n",
    "    O3_mean = list(file['O3_mean'])\n",
    "    O3_median = list(file['O3_median'])\n",
    "    O3_std = list(file['O3_std'])\n",
    "    for i in range(48,len(O3_min)):\n",
    "        for j in range(48):\n",
    "            O3_temp.append(file['O3'][i-48+j])\n",
    "        O3_min[i] = min(O3_temp)\n",
    "        O3_max[i] = max(O3_temp)\n",
    "        O3_max_min[i] = max(O3_temp) - min(O3_temp)\n",
    "        O3_mean[i] = statistics.mean(O3_temp)\n",
    "        O3_median[i] = statistics.median(PM10_temp)\n",
    "        O3_std[i] = statistics.stdev(O3_temp)\n",
    "    file['O3_min'] = O3_min\n",
    "    file['O3_max'] = O3_max\n",
    "    file['O3_max_min'] = O3_max_min\n",
    "    file['O3_mean'] = O3_mean\n",
    "    file['O3_median'] = O3_median\n",
    "    file['O3_std'] = O3_std\n",
    "    return                       "
   ]
  },
  {
   "cell_type": "code",
   "execution_count": 19,
   "metadata": {},
   "outputs": [],
   "source": [
    "def get_air_condition_feature():\n",
    "    for aq in tqdm(aq_index):\n",
    "        file = pd.read_csv('feature_' + aq + '.csv')\n",
    "        get_PM25_stats(file)\n",
    "        get_PM10_stats(file)\n",
    "        get_O3_stats(file)\n",
    "        file.to_csv('D:/HKUST/data mining and knowledge discovery/Project/work2/feature data2/' + 'feature_' + aq +'.csv')"
   ]
  },
  {
   "cell_type": "code",
   "execution_count": 20,
   "metadata": {},
   "outputs": [
    {
     "name": "stderr",
     "output_type": "stream",
     "text": [
      "100%|██████████████████████████████████████████████████████████████████████████████████| 35/35 [08:45<00:00, 15.01s/it]\n"
     ]
    }
   ],
   "source": [
    "get_air_condition_feature()"
   ]
  },
  {
   "cell_type": "code",
   "execution_count": null,
   "metadata": {},
   "outputs": [],
   "source": []
  }
 ],
 "metadata": {
  "kernelspec": {
   "display_name": "Python 3",
   "language": "python",
   "name": "python3"
  },
  "language_info": {
   "codemirror_mode": {
    "name": "ipython",
    "version": 3
   },
   "file_extension": ".py",
   "mimetype": "text/x-python",
   "name": "python",
   "nbconvert_exporter": "python",
   "pygments_lexer": "ipython3",
   "version": "3.6.5"
  }
 },
 "nbformat": 4,
 "nbformat_minor": 2
}
